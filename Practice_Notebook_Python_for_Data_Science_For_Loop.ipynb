{
 "cells": [
  {
   "cell_type": "markdown",
   "metadata": {
    "colab_type": "text",
    "id": "OkcHj_HKpQem"
   },
   "source": [
    "<font color=\"blue\">To use this notebook on Colaboratory, you will need to make a copy of it. Go to File > Save a Copy in Drive. You can then use the new copy that will appear in a seperate tab.</font>\n"
   ]
  },
  {
   "cell_type": "markdown",
   "metadata": {
    "colab_type": "text",
    "id": "wW6zZPzHpPkw"
   },
   "source": [
    "# Practice Notebook - Python for Data Science - For Loops"
   ]
  },
  {
   "cell_type": "markdown",
   "metadata": {
    "colab_type": "text",
    "id": "rZ5WJINWpVXw"
   },
   "source": [
    "## 1. For Loops"
   ]
  },
  {
   "cell_type": "markdown",
   "metadata": {
    "colab_type": "text",
    "id": "Tj7-43EzpXKP"
   },
   "source": [
    "#### <font color=\"blue\">Examples</font>"
   ]
  },
  {
   "cell_type": "markdown",
   "metadata": {
    "colab_type": "text",
    "id": "9CbPFikcpb65"
   },
   "source": [
    "##### <font color=\"blue\">Example 1"
   ]
  },
  {
   "cell_type": "code",
   "execution_count": null,
   "metadata": {
    "colab": {},
    "colab_type": "code",
    "id": "A6ghbClnpKgH"
   },
   "outputs": [],
   "source": [
    "# Example 1\n",
    "# ---\n",
    "# Looping/iterating through a string\n",
    "# ---\n",
    "# \n",
    "for y in \"Karuna Karuna\":\n",
    "    print(y)"
   ]
  },
  {
   "cell_type": "markdown",
   "metadata": {
    "colab_type": "text",
    "id": "8TToTfDxpcsC"
   },
   "source": [
    "##### <font color=\"blue\">Example 2"
   ]
  },
  {
   "cell_type": "code",
   "execution_count": null,
   "metadata": {
    "colab": {},
    "colab_type": "code",
    "id": "KQjf-iXjpdoW"
   },
   "outputs": [],
   "source": [
    "# Example 2\n",
    "# ---\n",
    "# Using a break statement to stop the loop before it continues its iteration\n",
    "# ---\n",
    "# \n",
    "\n",
    "# Let's print out the restaurants list that we had created earlier on\n",
    "restaurants = [\"cj's\", \"Java\", \"Nyama Mama\", \"Italian\", \"Viridian\", \"Khosa\"]\n",
    "\n",
    "# Looping and using a break statement\n",
    "for x in restaurants:\n",
    "    print(x) \n",
    "  if x == \"Viridian\":\n",
    "    break"
   ]
  },
  {
   "cell_type": "markdown",
   "metadata": {
    "colab_type": "text",
    "id": "O0n2jmlupeUe"
   },
   "source": [
    "##### <font color=\"blue\">Example 3"
   ]
  },
  {
   "cell_type": "code",
   "execution_count": null,
   "metadata": {
    "colab": {},
    "colab_type": "code",
    "id": "cwraj51ZpfqH"
   },
   "outputs": [],
   "source": [
    "# Example 3\n",
    "# ---\n",
    "# Using a continue statement to stop the current iteration of the loop \n",
    "# and continue the next section of our code\n",
    "# ---\n",
    "# \n",
    "\n",
    "mobile_phone = [\"iphone 4\", \"iphone 5\", \"iphone 6\", \"iphone 7\", \"iphone 8\", \"iphone x\", \"iphone xs\"]\n",
    "\n",
    "for x in mobile_phone:  \n",
    "    if x == 'iphone 6' or x == 'iphone 8': \n",
    "         continue\n",
    "    print ('Checked Phone :', x) "
   ]
  },
  {
   "cell_type": "markdown",
   "metadata": {
    "colab_type": "text",
    "id": "uBJfTBcDpooj"
   },
   "source": [
    "#### <font color=\"green\">Challenges</font> "
   ]
  },
  {
   "cell_type": "markdown",
   "metadata": {
    "colab_type": "text",
    "id": "xVpVBXPkprnS"
   },
   "source": [
    "##### <font color=\"green\">Challenge 1</font>"
   ]
  },
  {
   "cell_type": "code",
   "execution_count": 1,
   "metadata": {
    "colab": {},
    "colab_type": "code",
    "id": "HFGk4EqIppVV"
   },
   "outputs": [
    {
     "name": "stdout",
     "output_type": "stream",
     "text": [
      "M\n",
      "y\n",
      " \n",
      "l\n",
      "a\n",
      "n\n",
      "d\n",
      " \n",
      "i\n",
      "s\n",
      " \n",
      "K\n",
      "e\n",
      "n\n",
      "y\n",
      "a\n"
     ]
    }
   ],
   "source": [
    "# Challenge 1\n",
    "# ---\n",
    "# Question: Iterate through the string \"My land is Kenya\"\n",
    "# ---\n",
    "#\n",
    "#OUR CODE GOES HERE\n",
    "my_string = \"My land is Kenya\"\n",
    "\n",
    "for i in my_string:\n",
    "    print(i) "
   ]
  },
  {
   "cell_type": "markdown",
   "metadata": {
    "colab_type": "text",
    "id": "05xi5W5kpsYM"
   },
   "source": [
    "##### <font color=\"green\">Challenge 2</font>"
   ]
  },
  {
   "cell_type": "code",
   "execution_count": 3,
   "metadata": {
    "colab": {},
    "colab_type": "code",
    "id": "E3VR4EOWptKc"
   },
   "outputs": [
    {
     "name": "stdout",
     "output_type": "stream",
     "text": [
      "Oliech\n",
      "Kahata\n",
      "Yohana\n",
      "Matasi\n",
      "Mariga\n"
     ]
    }
   ],
   "source": [
    "# Challenge 2\n",
    "# ---\n",
    "# Question: Iterate through the given footballers list and stop at \"Mariga\"\n",
    "# ---\n",
    "# \n",
    "\n",
    "footballers = [\"Oliech\", \"Kahata\", \"Yohana\", \"Matasi\", \"Mariga\", \"Wanyama\"]\n",
    "\n",
    "#OUR CODE GOES HERE\n",
    "for i in footballers: \n",
    "    print(i) \n",
    "    if i == 'Mariga':\n",
    "        break "
   ]
  },
  {
   "cell_type": "markdown",
   "metadata": {
    "colab_type": "text",
    "id": "wtPFkTZCptbR"
   },
   "source": [
    "##### <font color=\"green\">Challenge 3</font>"
   ]
  },
  {
   "cell_type": "code",
   "execution_count": 11,
   "metadata": {
    "colab": {},
    "colab_type": "code",
    "id": "FyFcSQtNpt-x"
   },
   "outputs": [
    {
     "name": "stdout",
     "output_type": "stream",
     "text": [
      "Vanilla\n",
      "Banana\n",
      "Passion\n"
     ]
    }
   ],
   "source": [
    "# Challenge 3\n",
    "# ---\n",
    "# Let's print out a word if it doesn't have the letter \"e\" in the given cakes below\n",
    "# ---\n",
    "# Hint: \n",
    "# \n",
    "\n",
    "cakes = [\"Blueberry\", \"Raspberry\", \"Vanilla\", \"Chocolate\", \"Marble\", \"Apple\", \"Banana\", \"Passion\"]\n",
    "\n",
    "#OUR CODE GOES HERE\n",
    "for x in cakes:\n",
    "    if 'e' not in x:\n",
    "        print(x)    "
   ]
  }
 ],
 "metadata": {
  "colab": {
   "collapsed_sections": [
    "Tj7-43EzpXKP",
    "9CbPFikcpb65",
    "8TToTfDxpcsC",
    "O0n2jmlupeUe",
    "uBJfTBcDpooj",
    "xVpVBXPkprnS",
    "05xi5W5kpsYM",
    "wtPFkTZCptbR"
   ],
   "name": "Practice Notebook: Python for Data Science - For Loop",
   "provenance": [],
   "toc_visible": true
  },
  "kernelspec": {
   "display_name": "Python 3",
   "language": "python",
   "name": "python3"
  },
  "language_info": {
   "codemirror_mode": {
    "name": "ipython",
    "version": 3
   },
   "file_extension": ".py",
   "mimetype": "text/x-python",
   "name": "python",
   "nbconvert_exporter": "python",
   "pygments_lexer": "ipython3",
   "version": "3.7.6"
  }
 },
 "nbformat": 4,
 "nbformat_minor": 1
}
