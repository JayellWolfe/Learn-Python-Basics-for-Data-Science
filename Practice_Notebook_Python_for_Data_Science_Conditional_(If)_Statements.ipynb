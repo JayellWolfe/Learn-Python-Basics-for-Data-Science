{
 "cells": [
  {
   "cell_type": "markdown",
   "metadata": {
    "colab_type": "text",
    "id": "xOBNy1O1XMNv"
   },
   "source": [
    "<font color=\"blue\">To use this notebook on Colaboratory, you will need to make a copy of it. Go to File > Save a Copy in Drive. You can then use the new copy that will appear in a seperate tab.</font>\n"
   ]
  },
  {
   "cell_type": "markdown",
   "metadata": {
    "colab_type": "text",
    "id": "qcpLR3a_XPLd"
   },
   "source": [
    "# Practice Notebook: Python for Data Science - Conditional (If) Statements"
   ]
  },
  {
   "cell_type": "markdown",
   "metadata": {
    "colab_type": "text",
    "id": "IpSSrJdGXQ5a"
   },
   "source": [
    "## 1. Conditional (If) Statements"
   ]
  },
  {
   "cell_type": "markdown",
   "metadata": {
    "colab_type": "text",
    "id": "EnaCUxpRXT0J"
   },
   "source": [
    "#### <font color=\"blue\">Examples</font>"
   ]
  },
  {
   "cell_type": "markdown",
   "metadata": {
    "colab_type": "text",
    "id": "ZX5LhYDuXV2O"
   },
   "source": [
    "##### <font color=\"blue\">Example 1"
   ]
  },
  {
   "cell_type": "code",
   "execution_count": 1,
   "metadata": {
    "colab": {},
    "colab_type": "code",
    "id": "f9y3Gs_0XF9d"
   },
   "outputs": [
    {
     "name": "stdout",
     "output_type": "stream",
     "text": [
      "y is less than x\n"
     ]
    }
   ],
   "source": [
    "# Example 1\n",
    "# ---\n",
    "# If keyword\n",
    "# ---\n",
    "# \n",
    "p = 500\n",
    "q = 100\n",
    "\n",
    "if q < p:\n",
    "    print(\"y is less than x\")"
   ]
  },
  {
   "cell_type": "markdown",
   "metadata": {
    "colab_type": "text",
    "id": "7vliBrC5Xk65"
   },
   "source": [
    "##### <font color=\"blue\">Example 2"
   ]
  },
  {
   "cell_type": "code",
   "execution_count": 2,
   "metadata": {
    "colab": {},
    "colab_type": "code",
    "id": "HChmx56TXl3j"
   },
   "outputs": [
    {
     "name": "stdout",
     "output_type": "stream",
     "text": [
      "r and s are equal\n"
     ]
    }
   ],
   "source": [
    "# Example 2\n",
    "# ---\n",
    "# Elif keyword\n",
    "# ---\n",
    "# \n",
    "r = 100\n",
    "s = 100\n",
    "\n",
    "p = 500\n",
    "q = 100\n",
    "\n",
    "if s < r:\n",
    "    if q < p:\n",
    "    print(\"y is less than x\")\n",
    "elif r == s:\n",
    "    print(\"r and s are equal\")"
   ]
  },
  {
   "cell_type": "markdown",
   "metadata": {
    "colab_type": "text",
    "id": "0xG8q15EXnW_"
   },
   "source": [
    "##### <font color=\"blue\">Example 3"
   ]
  },
  {
   "cell_type": "code",
   "execution_count": 3,
   "metadata": {
    "colab": {},
    "colab_type": "code",
    "id": "jxac2rfpXpws"
   },
   "outputs": [
    {
     "name": "stdout",
     "output_type": "stream",
     "text": [
      "a is greater than b\n"
     ]
    }
   ],
   "source": [
    "# Example 3 \n",
    "# ---\n",
    "# Else keyword\n",
    "# ---\n",
    "# \n",
    "a = 150\n",
    "b = 50\n",
    "\n",
    "if b > a:\n",
    "    print(\"b is greater than a\")\n",
    "elif a == b:\n",
    "    print(\"a and b are equal\")\n",
    "else:\n",
    "    print(\"a is greater than b\")"
   ]
  },
  {
   "cell_type": "markdown",
   "metadata": {
    "colab_type": "text",
    "id": "2gYk4uIZYFKf"
   },
   "source": [
    "##### <font color=\"blue\">Example 4"
   ]
  },
  {
   "cell_type": "code",
   "execution_count": 4,
   "metadata": {
    "colab": {},
    "colab_type": "code",
    "id": "cswVDkN0YGQV"
   },
   "outputs": [
    {
     "name": "stdout",
     "output_type": "stream",
     "text": [
      "My name is Mary, and I am 30 years old.\n"
     ]
    }
   ],
   "source": [
    "# Example 4\n",
    "# ---\n",
    "# And keyword\n",
    "# ---\n",
    "# \n",
    "name = \"Mary\"    \n",
    "age  = 30 \n",
    "\n",
    "if name == \"Mary\" and age == 30:\n",
    "    print(\"My name is Mary, and I am 30 years old.\")"
   ]
  },
  {
   "cell_type": "markdown",
   "metadata": {
    "colab_type": "text",
    "id": "7vPUGzblYGj1"
   },
   "source": [
    "##### <font color=\"blue\">Example 5"
   ]
  },
  {
   "cell_type": "code",
   "execution_count": 5,
   "metadata": {
    "colab": {},
    "colab_type": "code",
    "id": "ivMrjohRYHe6"
   },
   "outputs": [
    {
     "name": "stdout",
     "output_type": "stream",
     "text": [
      "At least one of the conditions is True\n"
     ]
    }
   ],
   "source": [
    "# Example 5\n",
    "# ---\n",
    "# Or keyword\n",
    "# ---\n",
    "# \n",
    "a = 100\n",
    "b = 101\n",
    "c = 99\n",
    "\n",
    "if a > b or a > c:\n",
    "    print(\"At least one of the conditions is True\")"
   ]
  },
  {
   "cell_type": "markdown",
   "metadata": {
    "colab_type": "text",
    "id": "IhBdAGNeXa9N"
   },
   "source": [
    "#### <font color=\"green\">Challenges</font> "
   ]
  },
  {
   "cell_type": "markdown",
   "metadata": {
    "colab_type": "text",
    "id": "kBHUUpINXev4"
   },
   "source": [
    "##### <font color=\"green\">Challenge 1</font>"
   ]
  },
  {
   "cell_type": "code",
   "execution_count": 6,
   "metadata": {
    "colab": {},
    "colab_type": "code",
    "id": "fae-fxEZXfix"
   },
   "outputs": [
    {
     "name": "stdout",
     "output_type": "stream",
     "text": [
      "Yes, t is less than s\n"
     ]
    }
   ],
   "source": [
    "# Challenge 1\n",
    "# ---\n",
    "# Question: Find out if t is less than s\n",
    "# ---\n",
    "# OUR CODE BELOW\n",
    "#\n",
    "t = 100 \n",
    "s = 50\n",
    "\n",
    "if t > s: \n",
    "    print(\"Yes, t is less than s\") \n",
    "else:\n",
    "    print('No, t is not less than s')"
   ]
  },
  {
   "cell_type": "markdown",
   "metadata": {
    "colab_type": "text",
    "id": "Xk2YcqtKXgiL"
   },
   "source": [
    "##### <font color=\"green\">Challenge 2</font>"
   ]
  },
  {
   "cell_type": "code",
   "execution_count": 9,
   "metadata": {
    "colab": {},
    "colab_type": "code",
    "id": "uTgQ2ZHZXh2k"
   },
   "outputs": [
    {
     "name": "stdout",
     "output_type": "stream",
     "text": [
      "Please input a letter of the alphabet:e\n",
      "The letter is a vowel!\n"
     ]
    }
   ],
   "source": [
    "# Challenge 2\n",
    "# ---\n",
    "# Question: Write a program that checks the value of vowel, i.e. a, e, i, o or u \n",
    "# then displays whether the entered letter is a vowel.\n",
    "# ---\n",
    "# OUR CODE BELOW\n",
    "#\n",
    "letter = input('Please input a letter of the alphabet:')\n",
    "\n",
    "if letter == 'a' or letter == 'e' or \\\n",
    "   letter == 'i' or letter == 'o' or \\\n",
    "   letter == 'u':\n",
    "    print('The letter is a vowel!')\n",
    "elif letter == 'y':\n",
    "    print(\"Sometimes it's a vowel...Sometimes it's a consonant.\")\n",
    "else:\n",
    "    print(\"The letter is a consonant\")"
   ]
  }
 ],
 "metadata": {
  "colab": {
   "collapsed_sections": [
    "EnaCUxpRXT0J",
    "ZX5LhYDuXV2O",
    "7vliBrC5Xk65",
    "0xG8q15EXnW_",
    "2gYk4uIZYFKf",
    "7vPUGzblYGj1",
    "IhBdAGNeXa9N",
    "kBHUUpINXev4",
    "Xk2YcqtKXgiL"
   ],
   "name": "Practice Notebook - Python for Data Science - Conditional (If) Statements",
   "provenance": [],
   "toc_visible": true
  },
  "kernelspec": {
   "display_name": "Python 3",
   "language": "python",
   "name": "python3"
  },
  "language_info": {
   "codemirror_mode": {
    "name": "ipython",
    "version": 3
   },
   "file_extension": ".py",
   "mimetype": "text/x-python",
   "name": "python",
   "nbconvert_exporter": "python",
   "pygments_lexer": "ipython3",
   "version": "3.7.6"
  }
 },
 "nbformat": 4,
 "nbformat_minor": 1
}
