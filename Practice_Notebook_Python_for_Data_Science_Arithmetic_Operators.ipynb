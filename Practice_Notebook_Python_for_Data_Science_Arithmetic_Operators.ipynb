{
 "cells": [
  {
   "cell_type": "markdown",
   "metadata": {
    "colab_type": "text",
    "id": "Xk9uRo1FHcj7"
   },
   "source": [
    "<font color=\"steelblue\">To use this notebook on Colaboratory, you will need to make a copy of it. Go to File > Save a Copy in Drive. You can then use the new copy that will appear in the new tab.</font>\n"
   ]
  },
  {
   "cell_type": "markdown",
   "metadata": {
    "colab_type": "text",
    "id": "qOcy-X35HV_t"
   },
   "source": [
    "# Practice Notebook: Python for Data Science - Arithmetic Operators"
   ]
  },
  {
   "cell_type": "markdown",
   "metadata": {
    "colab_type": "text",
    "id": "sDoGOkDfHrHD"
   },
   "source": [
    "## 1. Arithmetic Operators"
   ]
  },
  {
   "cell_type": "markdown",
   "metadata": {
    "colab_type": "text",
    "id": "HX5OKWTeH3y7"
   },
   "source": [
    "#### <font color=\"steelblue\">Examples</font>"
   ]
  },
  {
   "cell_type": "markdown",
   "metadata": {
    "colab_type": "text",
    "id": "V3vakOO6H9Vh"
   },
   "source": [
    "##### <font color=\"steelblue\">Example 1"
   ]
  },
  {
   "cell_type": "code",
   "execution_count": 1,
   "metadata": {
    "colab": {},
    "colab_type": "code",
    "id": "LzONiSsfHAmy"
   },
   "outputs": [
    {
     "name": "stdout",
     "output_type": "stream",
     "text": [
      "36\n"
     ]
    }
   ],
   "source": [
    "# Example 1\n",
    "# ---\n",
    "# Let's perform an addition operation below\n",
    "# ---\n",
    "# \n",
    "\n",
    "# Declare our variables\n",
    "a = 20\n",
    "b = 16\n",
    "\n",
    "# Addition\n",
    "c = a + b\n",
    "\n",
    "# Printing out our results\n",
    "print(c)"
   ]
  },
  {
   "cell_type": "markdown",
   "metadata": {
    "colab_type": "text",
    "id": "RMTv6MI1IIT_"
   },
   "source": [
    "##### <font color=\"blue\">Example 2"
   ]
  },
  {
   "cell_type": "code",
   "execution_count": 2,
   "metadata": {
    "colab": {},
    "colab_type": "code",
    "id": "JPCyGVKjICxP"
   },
   "outputs": [
    {
     "name": "stdout",
     "output_type": "stream",
     "text": [
      "1.25\n"
     ]
    }
   ],
   "source": [
    "# Example 2\n",
    "# ---\n",
    "# Performing a division operation\n",
    "# ---\n",
    "# \n",
    "d = a / b\n",
    "\n",
    "# Printing out our result\n",
    "print(d)"
   ]
  },
  {
   "cell_type": "markdown",
   "metadata": {
    "colab_type": "text",
    "id": "HHygJvHMIPgh"
   },
   "source": [
    "##### <font color=\"blue\">Example 3"
   ]
  },
  {
   "cell_type": "code",
   "execution_count": 3,
   "metadata": {
    "colab": {},
    "colab_type": "code",
    "id": "FFONu-_VIO1k"
   },
   "outputs": [
    {
     "name": "stdout",
     "output_type": "stream",
     "text": [
      "36\n"
     ]
    }
   ],
   "source": [
    "# Example 3\n",
    "# ---\n",
    "# Using the increment operator to perform a = a + b \n",
    "# ---\n",
    "# \n",
    "\n",
    "# Using the increment operator\n",
    "a += b\n",
    "\n",
    "# Printing out our result\n",
    "print(a)"
   ]
  },
  {
   "cell_type": "markdown",
   "metadata": {
    "colab_type": "text",
    "id": "EqUWEUsNINyj"
   },
   "source": [
    "#### <font color=\"green\">Challenges</font> "
   ]
  },
  {
   "cell_type": "markdown",
   "metadata": {
    "colab_type": "text",
    "id": "ExGMoK-pIb8p"
   },
   "source": [
    "##### <font color=\"green\">Challenge 1</font>"
   ]
  },
  {
   "cell_type": "code",
   "execution_count": 5,
   "metadata": {
    "colab": {},
    "colab_type": "code",
    "id": "DnfLaMI-IhDi"
   },
   "outputs": [
    {
     "data": {
      "text/plain": [
       "20"
      ]
     },
     "execution_count": 5,
     "metadata": {},
     "output_type": "execute_result"
    }
   ],
   "source": [
    "# Challenge 1\n",
    "# ---\n",
    "# Question: Subtract b from a using the above declared variables\n",
    "# ---\n",
    "# \n",
    "#OUR CODE GOES HERE\n",
    "c = a - b\n",
    "c"
   ]
  },
  {
   "cell_type": "markdown",
   "metadata": {
    "colab_type": "text",
    "id": "ZfjZLNgMIeYh"
   },
   "source": [
    "##### <font color=\"green\">Challenge 2</font>"
   ]
  },
  {
   "cell_type": "code",
   "execution_count": 6,
   "metadata": {
    "colab": {},
    "colab_type": "code",
    "id": "gUZE2lrcIhXi"
   },
   "outputs": [
    {
     "data": {
      "text/plain": [
       "576"
      ]
     },
     "execution_count": 6,
     "metadata": {},
     "output_type": "execute_result"
    }
   ],
   "source": [
    "# Challenge 2\n",
    "# ---\n",
    "# Question: Muplitiply a and b variables\n",
    "# ---\n",
    "# \n",
    "#OUR CODE GOES HERE\n",
    "c = a * b \n",
    "c"
   ]
  },
  {
   "cell_type": "markdown",
   "metadata": {
    "colab_type": "text",
    "id": "GjfFmzfjIfZO"
   },
   "source": [
    "##### <font color=\"green\">Challenge 3</font>"
   ]
  },
  {
   "cell_type": "code",
   "execution_count": 7,
   "metadata": {
    "colab": {},
    "colab_type": "code",
    "id": "8KDbHHs2IhuL"
   },
   "outputs": [
    {
     "data": {
      "text/plain": [
       "20"
      ]
     },
     "execution_count": 7,
     "metadata": {},
     "output_type": "execute_result"
    }
   ],
   "source": [
    "# Challenge 3 \n",
    "# ---\n",
    "# Question: Using the decrement operator to perform a = a - b \n",
    "# ---\n",
    "# \n",
    "#OUR CODE GOES HERE\n",
    "a -= b\n",
    "a\n"
   ]
  },
  {
   "cell_type": "code",
   "execution_count": null,
   "metadata": {},
   "outputs": [],
   "source": []
  }
 ],
 "metadata": {
  "colab": {
   "collapsed_sections": [
    "HX5OKWTeH3y7",
    "V3vakOO6H9Vh",
    "RMTv6MI1IIT_",
    "HHygJvHMIPgh",
    "EqUWEUsNINyj",
    "ExGMoK-pIb8p",
    "ZfjZLNgMIeYh",
    "GjfFmzfjIfZO"
   ],
   "name": "Practice Notebook: Python for Data Science - Arithmetic Operators",
   "provenance": [],
   "toc_visible": true
  },
  "kernelspec": {
   "display_name": "Python 3",
   "language": "python",
   "name": "python3"
  },
  "language_info": {
   "codemirror_mode": {
    "name": "ipython",
    "version": 3
   },
   "file_extension": ".py",
   "mimetype": "text/x-python",
   "name": "python",
   "nbconvert_exporter": "python",
   "pygments_lexer": "ipython3",
   "version": "3.7.6"
  }
 },
 "nbformat": 4,
 "nbformat_minor": 1
}
