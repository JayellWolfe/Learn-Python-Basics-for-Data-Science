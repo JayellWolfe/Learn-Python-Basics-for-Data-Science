{
 "cells": [
  {
   "cell_type": "markdown",
   "metadata": {
    "colab_type": "text",
    "id": "O1ZGC3xPs0Ta"
   },
   "source": [
    "<font color=\"steelblue\">To use this notebook on Colaboratory, you will need to make a copy of it. Go to File > Save a Copy in Drive. You can then use the new copy that will appear in the new tab.</font>\n"
   ]
  },
  {
   "cell_type": "markdown",
   "metadata": {
    "colab_type": "text",
    "id": "jD-9Sma-ruMm"
   },
   "source": [
    "# Practice Notebook: Python for Data Science - Comments, Variables and Printing"
   ]
  },
  {
   "cell_type": "markdown",
   "metadata": {
    "colab_type": "text",
    "id": "1KGAN1h-rhUT"
   },
   "source": [
    "## 1. Comments"
   ]
  },
  {
   "cell_type": "markdown",
   "metadata": {
    "colab_type": "text",
    "id": "6mfDGqy38176"
   },
   "source": [
    "#### <font color=\"steelblue\">Examples</font>"
   ]
  },
  {
   "cell_type": "markdown",
   "metadata": {
    "colab_type": "text",
    "id": "BDggmS7ur3Wg"
   },
   "source": [
    "##### <font color=\"steelblue\">Example 1:</font> Single Line Comments"
   ]
  },
  {
   "cell_type": "code",
   "execution_count": null,
   "metadata": {
    "colab": {},
    "colab_type": "code",
    "id": "Chy3pmP9r9Ch"
   },
   "outputs": [],
   "source": [
    "# This is a single line comment. We use the hash character to indicate the following single line \n",
    "#content are comments.\n",
    "score = 56"
   ]
  },
  {
   "cell_type": "code",
   "execution_count": null,
   "metadata": {},
   "outputs": [],
   "source": []
  },
  {
   "cell_type": "markdown",
   "metadata": {
    "colab_type": "text",
    "id": "Am56-sCnr6vi"
   },
   "source": [
    "##### <font color=\"steelblue\">Example 2:</font> Multiple Line Comments - Method 1"
   ]
  },
  {
   "cell_type": "code",
   "execution_count": null,
   "metadata": {
    "colab": {},
    "colab_type": "code",
    "id": "i4mALMPGr2Ad"
   },
   "outputs": [],
   "source": [
    "'''\n",
    "This is a multiline comment. \n",
    "We use the delimiter characters to indicate that \n",
    "the following multi line content are comments.\n",
    "'''\n",
    "score = 53"
   ]
  },
  {
   "cell_type": "markdown",
   "metadata": {
    "colab_type": "text",
    "id": "5enr7YOCsGiO"
   },
   "source": [
    "##### <font color=\"steelblue\">Example 3:</font> Multiple Line Comments - Method 2"
   ]
  },
  {
   "cell_type": "code",
   "execution_count": null,
   "metadata": {
    "colab": {},
    "colab_type": "code",
    "id": "jLWLFxn5sVnD"
   },
   "outputs": [],
   "source": [
    "# ---\n",
    "# This is a multiline comment. \n",
    "# We can also use multiple hash characters to comment on \n",
    "# a block of content just as shown in this example.\n",
    "# We will be using this method of commenting to \n",
    "# provide more information about the exercises \n",
    "# and challenges within this course.\n",
    "# ---\n",
    "\n",
    "score = 53"
   ]
  },
  {
   "cell_type": "markdown",
   "metadata": {
    "colab_type": "text",
    "id": "czwZIoMP8yq2"
   },
   "source": [
    "#### <font color=\"green\">Challenges</font> "
   ]
  },
  {
   "cell_type": "markdown",
   "metadata": {
    "colab_type": "text",
    "id": "UVhxQgFF8KI_"
   },
   "source": [
    "##### <font color=\"green\">Challenge 1:</font> Explain the following code using a single line comment."
   ]
  },
  {
   "cell_type": "code",
   "execution_count": null,
   "metadata": {
    "colab": {},
    "colab_type": "code",
    "id": "EXZ0jzkw8N3Z"
   },
   "outputs": [],
   "source": [
    "tree = 5"
   ]
  },
  {
   "cell_type": "code",
   "execution_count": null,
   "metadata": {},
   "outputs": [],
   "source": [
    "#the value of 5 is assigned to the variable tree "
   ]
  },
  {
   "cell_type": "markdown",
   "metadata": {
    "colab_type": "text",
    "id": "vRf4lpd38TE8"
   },
   "source": [
    "##### <font color=\"green\">Challenge 2:</font> Explain the following code using multiple line comments (using delimiters)"
   ]
  },
  {
   "cell_type": "code",
   "execution_count": null,
   "metadata": {
    "colab": {},
    "colab_type": "code",
    "id": "C4eWE7xS8U9m"
   },
   "outputs": [],
   "source": [
    "tree = 5 + 4"
   ]
  },
  {
   "cell_type": "code",
   "execution_count": null,
   "metadata": {},
   "outputs": [],
   "source": [
    "\"\"\"\n",
    "the result value of 5 + 4 \n",
    "will be assigned to the variable\n",
    "tree\n",
    "\"\"\""
   ]
  },
  {
   "cell_type": "markdown",
   "metadata": {
    "colab_type": "text",
    "id": "dbS8kM4M8Vga"
   },
   "source": [
    "##### <font color=\"green\">Challenge 3: </font> Explain the following code using multiple line comments (Using Single line comments)"
   ]
  },
  {
   "cell_type": "code",
   "execution_count": null,
   "metadata": {
    "colab": {},
    "colab_type": "code",
    "id": "Zefh_ZEV8Wzk"
   },
   "outputs": [],
   "source": [
    "tree = 5 + 5"
   ]
  },
  {
   "cell_type": "code",
   "execution_count": null,
   "metadata": {},
   "outputs": [],
   "source": [
    "# ---\n",
    "#the result value of \n",
    "#5 + 5 \n",
    "#will be assigned \n",
    "#to the variable \n",
    "#tree \n",
    "# ---"
   ]
  },
  {
   "cell_type": "markdown",
   "metadata": {
    "colab_type": "text",
    "id": "DJeVFrBtw_kA"
   },
   "source": [
    "## 2. Variables"
   ]
  },
  {
   "cell_type": "markdown",
   "metadata": {
    "colab_type": "text",
    "id": "wp_BS7DmxDcu"
   },
   "source": [
    "#### <font color=\"steelblue\">Examples</font>"
   ]
  },
  {
   "cell_type": "markdown",
   "metadata": {
    "colab_type": "text",
    "id": "aFlF1bDQxHQO"
   },
   "source": [
    "##### <font color=\"steelblue\">Example 1</font>"
   ]
  },
  {
   "cell_type": "code",
   "execution_count": null,
   "metadata": {
    "colab": {},
    "colab_type": "code",
    "id": "XPERUCVo5aTx"
   },
   "outputs": [],
   "source": [
    "# Example 1\n",
    "# ---\n",
    "# Question: Assign the value 10 to the variable a.\n",
    "# ---\n",
    "# OUR CODE GOES BELOW\n",
    "#\n",
    "\n",
    "a = 10\n",
    "\n",
    "\n",
    "name = \"Valentine\""
   ]
  },
  {
   "cell_type": "markdown",
   "metadata": {
    "colab_type": "text",
    "id": "_Czt2xj3xKtQ"
   },
   "source": [
    "##### <font color=\"steelblue\">Example 2</font> "
   ]
  },
  {
   "cell_type": "code",
   "execution_count": null,
   "metadata": {
    "colab": {},
    "colab_type": "code",
    "id": "u6IDQwRc5bWn"
   },
   "outputs": [],
   "source": [
    "# Example 2\n",
    "# ---\n",
    "# Question: Assign the name Susan to the variable name.\n",
    "# ---\n",
    "# OUR CODE GOES BELOW\n",
    "#\n",
    "\n",
    "sister, brother = \"Susan\", \"Paul\""
   ]
  },
  {
   "cell_type": "markdown",
   "metadata": {
    "colab_type": "text",
    "id": "apQZLg4WxQaT"
   },
   "source": [
    "##### <font color=\"steelblue\">Example 3</font> "
   ]
  },
  {
   "cell_type": "code",
   "execution_count": null,
   "metadata": {
    "colab": {},
    "colab_type": "code",
    "id": "pO96_Ivb5cHT"
   },
   "outputs": [],
   "source": [
    "# Example 3\n",
    "# ---\n",
    "# Question: Assign the value [\"one\", 2, [\"three\"]] to the variable numbers\n",
    "# ---\n",
    "# OUR CODE GOES BELOW\n",
    "#\n",
    "\n",
    "numbers = [\"one\", 2, [\"three\"]] "
   ]
  },
  {
   "cell_type": "markdown",
   "metadata": {
    "colab_type": "text",
    "id": "5Kk6d63OxVQo"
   },
   "source": [
    "#### <font color=\"green\">Challenges</font> "
   ]
  },
  {
   "cell_type": "markdown",
   "metadata": {
    "colab_type": "text",
    "id": "figZW-P0xWHu"
   },
   "source": [
    "##### <font color=\"green\">Challenge 1</font>"
   ]
  },
  {
   "cell_type": "code",
   "execution_count": 2,
   "metadata": {
    "colab": {},
    "colab_type": "code",
    "id": "9mCpedG0xcfs"
   },
   "outputs": [],
   "source": [
    "# Challenge 1\n",
    "# ---\n",
    "# Question: Assign the your last name to the variable last_name.\n",
    "# ---\n",
    "# YOUR CODE GOES BELOW\n",
    "#\n",
    "last_name = 'Williams'"
   ]
  },
  {
   "cell_type": "markdown",
   "metadata": {
    "colab_type": "text",
    "id": "QhEXtwvIxZhP"
   },
   "source": [
    "##### <font color=\"green\">Challenge 2</font>"
   ]
  },
  {
   "cell_type": "code",
   "execution_count": 3,
   "metadata": {
    "colab": {},
    "colab_type": "code",
    "id": "SRG0iMPQxdHT"
   },
   "outputs": [],
   "source": [
    "# Challenge 2\n",
    "# ---\n",
    "# Question: Assign your final highschool grade to the variable highschool_grade.\n",
    "# ---\n",
    "# YOUR CODE GOES BELOW\n",
    "#\n",
    "highschool_grade = 4.0"
   ]
  },
  {
   "cell_type": "markdown",
   "metadata": {
    "colab_type": "text",
    "id": "prYpRrXsxbRX"
   },
   "source": [
    "##### <font color=\"green\">Challenge 3</font>"
   ]
  },
  {
   "cell_type": "code",
   "execution_count": 4,
   "metadata": {
    "colab": {},
    "colab_type": "code",
    "id": "PZVa_y3axdzn"
   },
   "outputs": [],
   "source": [
    "# Challenge 3\n",
    "# ---\n",
    "# Question: Assign the dictionary { \"brand\": \"Toyota\", \"model\": \"Wish\", \"year\": 2005 } \n",
    "# to the variable cars.\n",
    "# ---\n",
    "# YOUR CODE GOES BELOW\n",
    "#\n",
    "cars = { \"brand\": \"Toyota\", \"model\": \"Wish\", \"year\": 2005 } "
   ]
  },
  {
   "cell_type": "markdown",
   "metadata": {
    "colab_type": "text",
    "id": "AZaNOe10xhBd"
   },
   "source": [
    "## 3. Printing"
   ]
  },
  {
   "cell_type": "markdown",
   "metadata": {
    "colab_type": "text",
    "id": "KoqcSYwQxtRK"
   },
   "source": [
    "##### <font color=\"blue\">Example 1</font> "
   ]
  },
  {
   "cell_type": "code",
   "execution_count": null,
   "metadata": {
    "colab": {},
    "colab_type": "code",
    "id": "ai3ZxHpcxw-J"
   },
   "outputs": [],
   "source": [
    "# Example 1\n",
    "# ---\n",
    "# Question: Printing the text hello in our output console\n",
    "# ---\n",
    "# OUR CODE GOES BELOW\n",
    "#\n",
    "\n",
    "print(\"Hello!\")"
   ]
  },
  {
   "cell_type": "markdown",
   "metadata": {
    "colab_type": "text",
    "id": "b93FPbs0xuLv"
   },
   "source": [
    "##### <font color=\"blue\">Example 2</font> "
   ]
  },
  {
   "cell_type": "code",
   "execution_count": null,
   "metadata": {
    "colab": {},
    "colab_type": "code",
    "id": "HM9ouOKxxxh1"
   },
   "outputs": [],
   "source": [
    "# Example 2\n",
    "# ---\n",
    "# Question: Printing the text Hello Valentine and putting a seperator.\n",
    "# ---\n",
    "# OUR CODE GOES BELOW\n",
    "#\n",
    "\n",
    "print(\"Hello\", \"Valentine!\", sep=\" \")"
   ]
  },
  {
   "cell_type": "markdown",
   "metadata": {
    "colab_type": "text",
    "id": "oPUu3IMexvkM"
   },
   "source": [
    "##### <font color=\"blue\">Example 3</font> "
   ]
  },
  {
   "cell_type": "code",
   "execution_count": null,
   "metadata": {
    "colab": {},
    "colab_type": "code",
    "id": "4f4aOFsExyJa"
   },
   "outputs": [],
   "source": [
    "# Example 3 \n",
    "# ---\n",
    "# Question: Printing the following dictionary colors = {'red', 'green', 'blue'}\n",
    "# ---\n",
    "# OUR CODE GOES BELOW\n",
    "# \n",
    "\n",
    "colors = {'red', 'green', 'blue'}\n",
    "colors"
   ]
  },
  {
   "cell_type": "markdown",
   "metadata": {
    "colab_type": "text",
    "id": "TsVuSiuK9vLo"
   },
   "source": [
    "#### <font color=\"green\">Challenges</font> "
   ]
  },
  {
   "cell_type": "markdown",
   "metadata": {
    "colab_type": "text",
    "id": "AX1eFoHBxioZ"
   },
   "source": [
    "##### <font color=\"green\">Challenge 1</font>"
   ]
  },
  {
   "cell_type": "code",
   "execution_count": 5,
   "metadata": {
    "colab": {},
    "colab_type": "code",
    "id": "h5d4FLXDxmd4"
   },
   "outputs": [
    {
     "name": "stdout",
     "output_type": "stream",
     "text": [
      "Williams\n"
     ]
    }
   ],
   "source": [
    "# Challenge 1\n",
    "# ---\n",
    "# Question: Using the print function print out your last name\n",
    "# ---\n",
    "# YOUR CODE GOES BELOW\n",
    "# \n",
    "print(last_name)"
   ]
  },
  {
   "cell_type": "markdown",
   "metadata": {
    "colab_type": "text",
    "id": "xN0KYDlrxjzF"
   },
   "source": [
    "##### <font color=\"green\">Challenge 2</font>"
   ]
  },
  {
   "cell_type": "code",
   "execution_count": 8,
   "metadata": {
    "colab": {},
    "colab_type": "code",
    "id": "j3A29Of8xnEG"
   },
   "outputs": [
    {
     "name": "stdout",
     "output_type": "stream",
     "text": [
      "Jessica Lynn Williams\n"
     ]
    }
   ],
   "source": [
    "# Challenge 2\n",
    "# ---\n",
    "# Question: Print out the your full names below seperated by spaces\n",
    "# ---\n",
    "# YOUR CODE GOES BELOW\n",
    "fname = 'Jessica' \n",
    "mname = 'Lynn'\n",
    "lname = 'Williams'\n",
    "\n",
    "print(fname + ' ' + mname + ' ' + lname)"
   ]
  },
  {
   "cell_type": "markdown",
   "metadata": {
    "colab_type": "text",
    "id": "LWRbnoj5xlT9"
   },
   "source": [
    "##### <font color=\"green\">Challenge 3</font>"
   ]
  },
  {
   "cell_type": "code",
   "execution_count": 9,
   "metadata": {
    "colab": {},
    "colab_type": "code",
    "id": "6V99ewapxnjz"
   },
   "outputs": [
    {
     "data": {
      "text/plain": [
       "(400, 'Employees')"
      ]
     },
     "execution_count": 9,
     "metadata": {},
     "output_type": "execute_result"
    }
   ],
   "source": [
    "# Challenge 3\n",
    "# ---\n",
    "# Question: Store the values 400 and \"Employees\" in the variables x and y \n",
    "# then print out these two variables.\n",
    "# ---\n",
    "# YOUR CODE GOES BELOW\n",
    "# \n",
    "x = 400 \n",
    "y = 'Employees' \n",
    "\n",
    "x,y"
   ]
  }
 ],
 "metadata": {
  "colab": {
   "collapsed_sections": [
    "1KGAN1h-rhUT",
    "6mfDGqy38176",
    "BDggmS7ur3Wg",
    "Am56-sCnr6vi",
    "5enr7YOCsGiO",
    "czwZIoMP8yq2",
    "UVhxQgFF8KI_",
    "vRf4lpd38TE8",
    "dbS8kM4M8Vga",
    "DJeVFrBtw_kA",
    "wp_BS7DmxDcu",
    "aFlF1bDQxHQO",
    "_Czt2xj3xKtQ",
    "apQZLg4WxQaT",
    "5Kk6d63OxVQo",
    "figZW-P0xWHu",
    "QhEXtwvIxZhP",
    "prYpRrXsxbRX",
    "AZaNOe10xhBd",
    "KoqcSYwQxtRK",
    "b93FPbs0xuLv",
    "oPUu3IMexvkM",
    "TsVuSiuK9vLo",
    "AX1eFoHBxioZ",
    "xN0KYDlrxjzF",
    "LWRbnoj5xlT9"
   ],
   "name": "Practice Notebook: Python for Data Science - Comments, Variables and Printing",
   "provenance": [],
   "toc_visible": true
  },
  "kernelspec": {
   "display_name": "Python 3",
   "language": "python",
   "name": "python3"
  },
  "language_info": {
   "codemirror_mode": {
    "name": "ipython",
    "version": 3
   },
   "file_extension": ".py",
   "mimetype": "text/x-python",
   "name": "python",
   "nbconvert_exporter": "python",
   "pygments_lexer": "ipython3",
   "version": "3.7.6"
  }
 },
 "nbformat": 4,
 "nbformat_minor": 1
}
