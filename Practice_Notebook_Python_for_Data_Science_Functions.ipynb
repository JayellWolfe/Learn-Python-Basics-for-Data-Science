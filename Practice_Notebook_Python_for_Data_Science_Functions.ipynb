{
 "cells": [
  {
   "cell_type": "markdown",
   "metadata": {
    "colab_type": "text",
    "id": "Zc7uXkGhr0jj"
   },
   "source": [
    "<font color=\"blue\">To use this notebook on Colaboratory, you will need to make a copy of it. Go to File > Save a Copy in Drive. You can then use the new copy that will appear in a seperate tab.</font>\n"
   ]
  },
  {
   "cell_type": "markdown",
   "metadata": {
    "colab_type": "text",
    "id": "rYrnAuYBryYC"
   },
   "source": [
    "# Practice Notebook: Python for Data Science - Functions "
   ]
  },
  {
   "cell_type": "markdown",
   "metadata": {
    "colab_type": "text",
    "id": "YoefXC--r2tB"
   },
   "source": [
    "## 1. Functions"
   ]
  },
  {
   "cell_type": "markdown",
   "metadata": {
    "colab_type": "text",
    "id": "WOi0gv2Dr83t"
   },
   "source": [
    "#### <font color=\"blue\">Examples</font>"
   ]
  },
  {
   "cell_type": "markdown",
   "metadata": {
    "colab_type": "text",
    "id": "GgSYzCUYsCWG"
   },
   "source": [
    "##### <font color=\"blue\">Example 1"
   ]
  },
  {
   "cell_type": "code",
   "execution_count": null,
   "metadata": {
    "colab": {},
    "colab_type": "code",
    "id": "0zJ1kn1BrwkV"
   },
   "outputs": [],
   "source": [
    "# Example 1\n",
    "# ---\n",
    "# Let's use built-in functions\n",
    "# ---\n",
    "# \n",
    "\n",
    "# The max() function will return the item with the highest value as shown\n",
    "# in the given list\n",
    "x = max([23, 22, 55, 23, 44])\n",
    "print(x)\n",
    "\n",
    "# Using the max() function, we can return the item with the highest value alphabetically\n",
    "y = max([\"Susan\", \"Grace\", \"Simon\"])\n",
    "print(y)"
   ]
  },
  {
   "cell_type": "markdown",
   "metadata": {
    "colab_type": "text",
    "id": "-bAG0iH2sDiV"
   },
   "source": [
    "##### <font color=\"blue\">Example 2"
   ]
  },
  {
   "cell_type": "code",
   "execution_count": null,
   "metadata": {
    "colab": {},
    "colab_type": "code",
    "id": "0YQ7eSTvsEZP"
   },
   "outputs": [],
   "source": [
    "# Example 2\n",
    "# ---\n",
    "# Let's create a function to find out which of two numbers is greater than the other \n",
    "# ---\n",
    "#\n",
    "\n",
    "# we define it by giving it the name max_of_two\n",
    "def max_of_two():\n",
    "  \n",
    "  # we then define our variables that will contain the numbers to be manipulated\n",
    "  first_number  = 10\n",
    "  second_number = 5\n",
    "  \n",
    "  # then we perform our operations i.e. in this case,\n",
    "  # if first_number is greater than second_number etc.\n",
    "  if first_number > second_number:\n",
    "    \n",
    "      # the return keyword allows us to provide back the result/output of our function\n",
    "    return first_number\n",
    "  \n",
    "    # the return key word allows us to provide back the result/output of our function\n",
    "  return second_number\n",
    " \n",
    "# Lastly, we do the most important step; which is to call the function that \n",
    "# we have just created above. Calling allows us to use the function. \n",
    "# We have also been calling our built-in functions from the previous section.\n",
    "#\n",
    "max_of_two()"
   ]
  },
  {
   "cell_type": "markdown",
   "metadata": {
    "colab_type": "text",
    "id": "47gh_27esFHZ"
   },
   "source": [
    "##### <font color=\"blue\">Example 3"
   ]
  },
  {
   "cell_type": "code",
   "execution_count": null,
   "metadata": {
    "colab": {},
    "colab_type": "code",
    "id": "a8odALGjsGJy"
   },
   "outputs": [],
   "source": [
    "# Example 3\n",
    "# ---\n",
    "# Let's define our function by creating a \n",
    "# ---\n",
    "#\n",
    "\n",
    "def average_of_two_numbers(x, y): \n",
    "  average_of_two_numbers = (x + y)/2 \n",
    "  return print(average_of_two_numbers)  \n",
    "  \n",
    "average_of_two_numbers(4, 5) "
   ]
  },
  {
   "cell_type": "markdown",
   "metadata": {
    "colab_type": "text",
    "id": "m1FOyDx-r_C_"
   },
   "source": [
    "#### <font color=\"green\">Challenges</font> "
   ]
  },
  {
   "cell_type": "markdown",
   "metadata": {
    "colab_type": "text",
    "id": "PgsptduxsKGg"
   },
   "source": [
    "##### <font color=\"green\">Challenge 1</font>"
   ]
  },
  {
   "cell_type": "code",
   "execution_count": 8,
   "metadata": {
    "colab": {},
    "colab_type": "code",
    "id": "t4PE4y_Vr_1Q"
   },
   "outputs": [
    {
     "name": "stdout",
     "output_type": "stream",
     "text": [
      "Smallest number in the list is: 22\n"
     ]
    }
   ],
   "source": [
    "# Challenge 1\n",
    "# ---\n",
    "# Question: Determine the lowest value in the given array\n",
    "# ---\n",
    "#\n",
    "\n",
    "x = [23, 22, 55, 23, 44]\n",
    "\n",
    "#OUR CODE GOES HERE  \n",
    "x.sort() \n",
    "print(\"Smallest number in the list is:\", x[0])"
   ]
  },
  {
   "cell_type": "markdown",
   "metadata": {
    "colab_type": "text",
    "id": "88bM7tZ2sLI4"
   },
   "source": [
    "##### <font color=\"green\">Challenge 2</font>"
   ]
  },
  {
   "cell_type": "code",
   "execution_count": 10,
   "metadata": {
    "colab": {},
    "colab_type": "code",
    "id": "W7aQKJ96sL_F"
   },
   "outputs": [
    {
     "data": {
      "text/plain": [
       "'jessicalynnwolfe'"
      ]
     },
     "execution_count": 10,
     "metadata": {},
     "output_type": "execute_result"
    }
   ],
   "source": [
    "# Challenge 2\n",
    "# ---\n",
    "# Create function that takes in first_name, middle_name, and last_name \n",
    "# as parameters and returns the full name\n",
    "# ---\n",
    "#\n",
    "#OUR CODE GOES HERE\n",
    "def names(first_name, middle_name, last_name):\n",
    "    return first_name + middle_name + last_name \n",
    "\n",
    "names('jessica', 'lynn', 'wolfe') "
   ]
  },
  {
   "cell_type": "markdown",
   "metadata": {
    "colab_type": "text",
    "id": "E_kcos-EsMTo"
   },
   "source": [
    "##### <font color=\"green\">Challenge 3</font>"
   ]
  },
  {
   "cell_type": "code",
   "execution_count": 11,
   "metadata": {
    "colab": {},
    "colab_type": "code",
    "id": "G0RuVWaVsNPD"
   },
   "outputs": [
    {
     "name": "stdout",
     "output_type": "stream",
     "text": [
      "Area =  30\n",
      "Perimeter =  22\n"
     ]
    }
   ],
   "source": [
    "# Challenge 3\n",
    "# ---\n",
    "# Question: Create a python function that calculates the area of rectangle \n",
    "# when the value of the height and width is passed to the function.\n",
    "# ---\n",
    "# \n",
    "#OUR CODE GOES HERE\n",
    "def areaRectangle(a, b): \n",
    "    return (a * b) \n",
    "  \n",
    "def perimeterRectangle(a, b): \n",
    "    return (2 * (a + b)) \n",
    "  \n",
    "a = 5; \n",
    "b = 6; \n",
    "print (\"Area = \", areaRectangle(a, b)) \n",
    "print (\"Perimeter = \", perimeterRectangle(a, b)) "
   ]
  },
  {
   "cell_type": "markdown",
   "metadata": {
    "colab_type": "text",
    "id": "jpvE6cqosOFe"
   },
   "source": [
    "##### <font color=\"green\">Challenge 4</font>"
   ]
  },
  {
   "cell_type": "code",
   "execution_count": null,
   "metadata": {
    "colab": {},
    "colab_type": "code",
    "id": "Zx5cUD33sO63"
   },
   "outputs": [],
   "source": [
    "# Challenge 4\n",
    "# ---\n",
    "# Question: Uberite, a logistics app has a base fare of Ksh. 400. \n",
    "# The app charges Ksh. 30 for every 100 meters travelled. \n",
    "# Create a python function fare that takes the distance travelled \n",
    "# as a parameter and returns the charge.\n",
    "# ---\n",
    "# \n",
    "#OUR CODE GOES HERE \n"
   ]
  }
 ],
 "metadata": {
  "colab": {
   "collapsed_sections": [
    "WOi0gv2Dr83t",
    "GgSYzCUYsCWG",
    "-bAG0iH2sDiV",
    "47gh_27esFHZ",
    "m1FOyDx-r_C_",
    "PgsptduxsKGg",
    "88bM7tZ2sLI4",
    "E_kcos-EsMTo",
    "jpvE6cqosOFe"
   ],
   "name": "Practice Notebook: Python for Data Science - Functions",
   "provenance": [],
   "toc_visible": true
  },
  "kernelspec": {
   "display_name": "Python 3",
   "language": "python",
   "name": "python3"
  },
  "language_info": {
   "codemirror_mode": {
    "name": "ipython",
    "version": 3
   },
   "file_extension": ".py",
   "mimetype": "text/x-python",
   "name": "python",
   "nbconvert_exporter": "python",
   "pygments_lexer": "ipython3",
   "version": "3.7.6"
  }
 },
 "nbformat": 4,
 "nbformat_minor": 1
}
