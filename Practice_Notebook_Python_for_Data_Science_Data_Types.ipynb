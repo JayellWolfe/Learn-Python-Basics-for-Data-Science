{
 "cells": [
  {
   "cell_type": "markdown",
   "metadata": {
    "colab_type": "text",
    "id": "cPdDT4EfNu8P"
   },
   "source": [
    "<font color=\"steelblue\">To use this notebook on Colaboratory, you will need to make a copy of it. Go to File > Save a Copy in Drive. You can then use the new copy that will appear in a seperate tab.</font>\n"
   ]
  },
  {
   "cell_type": "markdown",
   "metadata": {
    "colab_type": "text",
    "id": "dqhVm_8kN2tl"
   },
   "source": [
    "# Practice Notebook: Python for Data Science - Data Types"
   ]
  },
  {
   "cell_type": "markdown",
   "metadata": {
    "colab_type": "text",
    "id": "qLLe0H-WN7az"
   },
   "source": [
    "## 1. Data Types"
   ]
  },
  {
   "cell_type": "markdown",
   "metadata": {
    "colab_type": "text",
    "id": "VtTVm3cvN_lP"
   },
   "source": [
    "#### <font color=\"blue\">Examples</font>"
   ]
  },
  {
   "cell_type": "markdown",
   "metadata": {
    "colab_type": "text",
    "id": "qIxhQwTHOIjm"
   },
   "source": [
    "##### <font color=\"blue\">Example 1"
   ]
  },
  {
   "cell_type": "code",
   "execution_count": null,
   "metadata": {
    "colab": {},
    "colab_type": "code",
    "id": "n7APi3z1NtN0"
   },
   "outputs": [],
   "source": [
    "# Example 1\n",
    "# ---\n",
    "# Dynamically-inferred types\n",
    "# ---\n",
    "#\n",
    "x = 20\n",
    "print(type(x))\n",
    "x = '20'\n",
    "print(type(x))\n",
    "x = 20.0\n",
    "print(type(x))"
   ]
  },
  {
   "cell_type": "markdown",
   "metadata": {
    "colab_type": "text",
    "id": "JdKpybEFOJOM"
   },
   "source": [
    "##### <font color=\"blue\">Example 2"
   ]
  },
  {
   "cell_type": "code",
   "execution_count": null,
   "metadata": {
    "colab": {},
    "colab_type": "code",
    "id": "2Al_wNeZOE7t"
   },
   "outputs": [],
   "source": [
    "# Example 2\n",
    "# ---\n",
    "# Manual type-conversion (string to int)\n",
    "# ---\n",
    "# \n",
    "x = 20\n",
    "y = '5'\n",
    "print(x + int(y))"
   ]
  },
  {
   "cell_type": "markdown",
   "metadata": {
    "colab_type": "text",
    "id": "XJoETlR_OKHt"
   },
   "source": [
    "##### <font color=\"blue\">Example 3"
   ]
  },
  {
   "cell_type": "code",
   "execution_count": null,
   "metadata": {
    "colab": {},
    "colab_type": "code",
    "id": "CmPAy-efOEx-"
   },
   "outputs": [],
   "source": [
    "# Example 3\n",
    "# ---\n",
    "# Automatic type-conversion (int to float)\n",
    "# ---\n",
    "#\n",
    "x = 20\n",
    "print(type(x))\n",
    "x += 5.0\n",
    "print(x), type(x)"
   ]
  },
  {
   "cell_type": "markdown",
   "metadata": {
    "colab_type": "text",
    "id": "8w3U0HVEOccy"
   },
   "source": [
    "##### <font color=\"blue\">Example 4"
   ]
  },
  {
   "cell_type": "code",
   "execution_count": null,
   "metadata": {
    "colab": {},
    "colab_type": "code",
    "id": "o_qQW55lOeY5"
   },
   "outputs": [],
   "source": [
    "# Example 4\n",
    "# ---\n",
    "# Dividing Integers\n",
    "# ---\n",
    "# \n",
    "a = 20\n",
    "b = 5\n",
    "print(a/b)\n",
    "print(b/a)"
   ]
  },
  {
   "cell_type": "markdown",
   "metadata": {
    "colab_type": "text",
    "id": "hDZ9eDtmOgLi"
   },
   "source": [
    "##### <font color=\"blue\">Example 5"
   ]
  },
  {
   "cell_type": "code",
   "execution_count": 9,
   "metadata": {
    "colab": {},
    "colab_type": "code",
    "id": "RqtHFRB1OkU-"
   },
   "outputs": [],
   "source": [
    "# Example 5\n",
    "# ---\n",
    "# Forcing float division\n",
    "# ---\n",
    "# \n",
    "print(b/float('5'))\n",
    "# How can you correct this?"
   ]
  },
  {
   "cell_type": "markdown",
   "metadata": {
    "colab_type": "text",
    "id": "SxIaU06sOuYQ"
   },
   "source": [
    "##### <font color=\"blue\">Example 6"
   ]
  },
  {
   "cell_type": "code",
   "execution_count": null,
   "metadata": {
    "colab": {},
    "colab_type": "code",
    "id": "Ho7QuNWqOvNs"
   },
   "outputs": [],
   "source": [
    "# Examaple 6\n",
    "# ---\n",
    "# String \"arithmetic\" (actually concatenation)\n",
    "# ---\n",
    "a = 'John '\n",
    "b = 'Doe'\n",
    "print(a + b)"
   ]
  },
  {
   "cell_type": "markdown",
   "metadata": {
    "colab_type": "text",
    "id": "GuR57OHgOBnM"
   },
   "source": [
    "#### <font color=\"green\">Challenges</font> "
   ]
  },
  {
   "cell_type": "markdown",
   "metadata": {
    "colab_type": "text",
    "id": "eaq4UrFLONmb"
   },
   "source": [
    "##### <font color=\"green\">Challenge 1</font>"
   ]
  },
  {
   "cell_type": "code",
   "execution_count": 1,
   "metadata": {
    "colab": {},
    "colab_type": "code",
    "id": "sXCvJSB1OD8w"
   },
   "outputs": [
    {
     "data": {
      "text/plain": [
       "'JessicaWolfe'"
      ]
     },
     "execution_count": 1,
     "metadata": {},
     "output_type": "execute_result"
    }
   ],
   "source": [
    "# Challenge 1\n",
    "# ---\n",
    "# Question: Concatenate and print your full names.\n",
    "# ---\n",
    "# \n",
    "#OUR CODE GOES HERE\n",
    "a = 'Jessica'\n",
    "b = 'Wolfe'\n",
    "a + b\n"
   ]
  },
  {
   "cell_type": "markdown",
   "metadata": {
    "colab_type": "text",
    "id": "bSurXHq_OOjc"
   },
   "source": [
    "##### <font color=\"green\">Challenge 2</font>"
   ]
  },
  {
   "cell_type": "code",
   "execution_count": 7,
   "metadata": {
    "colab": {},
    "colab_type": "code",
    "id": "fQjDSfP1OEPH"
   },
   "outputs": [
    {
     "name": "stdout",
     "output_type": "stream",
     "text": [
      "15\n"
     ]
    }
   ],
   "source": [
    "# Challenge 2\n",
    "# ---\n",
    "# Question: Run and correct the following code.\n",
    "# ---\n",
    "# \n",
    "x = 10\n",
    "y = '5'\n",
    "print(x + int(y))"
   ]
  },
  {
   "cell_type": "markdown",
   "metadata": {
    "colab_type": "text",
    "id": "hnyRRASVOPq4"
   },
   "source": [
    "##### <font color=\"green\">Challenge 3</font>"
   ]
  },
  {
   "cell_type": "code",
   "execution_count": 10,
   "metadata": {
    "colab": {},
    "colab_type": "code",
    "id": "7qUmDv5NOFl0"
   },
   "outputs": [
    {
     "data": {
      "text/plain": [
       "66.33333333333333"
      ]
     },
     "execution_count": 10,
     "metadata": {},
     "output_type": "execute_result"
    }
   ],
   "source": [
    "# Challenge 3\n",
    "# ---\n",
    "# Question: Perform integer division of 199 and 3 with the result being a float.\n",
    "# ---\n",
    "# \n",
    "#OUR CODE GOES HERE\n",
    "a = 199\n",
    "b = 3 \n",
    "c = (a/(float(b)))\n",
    "c\n"
   ]
  },
  {
   "cell_type": "markdown",
   "metadata": {
    "colab_type": "text",
    "id": "okwTjEZ_PCiN"
   },
   "source": [
    "##### <font color=\"green\">Challenge 4</font>"
   ]
  },
  {
   "cell_type": "code",
   "execution_count": 11,
   "metadata": {
    "colab": {},
    "colab_type": "code",
    "id": "YThUHgEzPEfP"
   },
   "outputs": [
    {
     "data": {
      "text/plain": [
       "'mansfieldohioUnited States'"
      ]
     },
     "execution_count": 11,
     "metadata": {},
     "output_type": "execute_result"
    }
   ],
   "source": [
    "# Challenge 4\n",
    "# ---\n",
    "# Question: Concatenate and print your postal address with the City and Country.\n",
    "# ---\n",
    "# \n",
    "#OUR CODE GOES HERE\n",
    "a = 'mansfield'\n",
    "b = 'ohio'\n",
    "c = 'United States'\n",
    "\n",
    "d = a + b + c \n",
    "d"
   ]
  },
  {
   "cell_type": "code",
   "execution_count": null,
   "metadata": {},
   "outputs": [],
   "source": []
  }
 ],
 "metadata": {
  "colab": {
   "collapsed_sections": [
    "VtTVm3cvN_lP",
    "qIxhQwTHOIjm",
    "JdKpybEFOJOM",
    "XJoETlR_OKHt",
    "8w3U0HVEOccy",
    "hDZ9eDtmOgLi",
    "SxIaU06sOuYQ",
    "GuR57OHgOBnM",
    "eaq4UrFLONmb",
    "bSurXHq_OOjc",
    "hnyRRASVOPq4",
    "okwTjEZ_PCiN"
   ],
   "name": "Practice Notebook: Python for Data Science - Data Types",
   "provenance": [],
   "toc_visible": true
  },
  "kernelspec": {
   "display_name": "Python 3",
   "language": "python",
   "name": "python3"
  },
  "language_info": {
   "codemirror_mode": {
    "name": "ipython",
    "version": 3
   },
   "file_extension": ".py",
   "mimetype": "text/x-python",
   "name": "python",
   "nbconvert_exporter": "python",
   "pygments_lexer": "ipython3",
   "version": "3.7.6"
  }
 },
 "nbformat": 4,
 "nbformat_minor": 1
}
