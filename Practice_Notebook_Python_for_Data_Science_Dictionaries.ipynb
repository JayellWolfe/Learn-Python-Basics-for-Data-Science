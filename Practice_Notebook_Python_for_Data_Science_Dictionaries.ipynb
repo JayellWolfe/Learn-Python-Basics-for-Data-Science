{
 "cells": [
  {
   "cell_type": "markdown",
   "metadata": {
    "colab_type": "text",
    "id": "shApQv6znKsf"
   },
   "source": [
    "<font color=\"blue\">To use this notebook on Colaboratory, you will need to make a copy of it. Go to File > Save a Copy in Drive. You can then use the new copy that will appear in a seperate tab.</font>\n"
   ]
  },
  {
   "cell_type": "markdown",
   "metadata": {
    "colab_type": "text",
    "id": "hdEWP1SNnFHp"
   },
   "source": [
    "# Practice Notebook: Python for Data Science - Dictionaries"
   ]
  },
  {
   "cell_type": "markdown",
   "metadata": {
    "colab_type": "text",
    "id": "B9ZBN3ZWnOBw"
   },
   "source": [
    "## 1. Dictionaries"
   ]
  },
  {
   "cell_type": "markdown",
   "metadata": {
    "colab_type": "text",
    "id": "_TGroESwnRos"
   },
   "source": [
    "#### <font color=\"blue\">Examples</font>"
   ]
  },
  {
   "cell_type": "markdown",
   "metadata": {
    "colab_type": "text",
    "id": "TbJ6OFKqnUTy"
   },
   "source": [
    "##### <font color=\"blue\">Example 1"
   ]
  },
  {
   "cell_type": "code",
   "execution_count": 12,
   "metadata": {
    "colab": {},
    "colab_type": "code",
    "id": "sIEWsndxnBIx"
   },
   "outputs": [
    {
     "name": "stdout",
     "output_type": "stream",
     "text": [
      "{'brand': 'Toyota', 'model': 'Subaru', 'year': 2019}\n"
     ]
    }
   ],
   "source": [
    "# Example 1\n",
    "# ---\n",
    "# Creating a dictionary\n",
    "# ---\n",
    "# \n",
    "\n",
    "vehicle =\t{\n",
    "  'brand': 'Toyota',\n",
    "  'model': 'Subaru',\n",
    "  'year': 2019\n",
    "}\n",
    "print(vehicle)"
   ]
  },
  {
   "cell_type": "markdown",
   "metadata": {
    "colab_type": "text",
    "id": "HxuW_VVCnVgw"
   },
   "source": [
    "##### <font color=\"blue\">Example 2"
   ]
  },
  {
   "cell_type": "code",
   "execution_count": 13,
   "metadata": {
    "colab": {},
    "colab_type": "code",
    "id": "1Vmghb0onWoR"
   },
   "outputs": [
    {
     "name": "stdout",
     "output_type": "stream",
     "text": [
      "{'brand': 'Toyota', 'model': 'Subaru', 'year': 2019, 'engine': '1800cc'}\n"
     ]
    }
   ],
   "source": [
    "# Example 2\n",
    "# ---\n",
    "# Adding elements to a dictionary\n",
    "# ---\n",
    "# \n",
    "\n",
    "# Adding an element to your dictionary\n",
    "vehicle['engine'] = '1800cc'  \n",
    "\n",
    "# Printing out our updated dictionary\n",
    "print(vehicle)"
   ]
  },
  {
   "cell_type": "markdown",
   "metadata": {
    "colab_type": "text",
    "id": "8LarnuTTnalz"
   },
   "source": [
    "##### <font color=\"blue\">Example 3"
   ]
  },
  {
   "cell_type": "code",
   "execution_count": 14,
   "metadata": {
    "colab": {},
    "colab_type": "code",
    "id": "iAQKOoTJnd-D"
   },
   "outputs": [
    {
     "name": "stdout",
     "output_type": "stream",
     "text": [
      "{'brand': 'Toyota', 'model': 'Subaru', 'year': 2019, 'engine': '2400cc'}\n"
     ]
    }
   ],
   "source": [
    "# Example 3\n",
    "# ---\n",
    "# Updating elements in a dictionary\n",
    "# ---\n",
    "# \n",
    "\n",
    "# Updating an element to our dictionary\n",
    "vehicle['engine'] = '2400cc'\n",
    "\n",
    "# Printing out our updated dictionary\n",
    "print(vehicle)"
   ]
  },
  {
   "cell_type": "markdown",
   "metadata": {
    "colab_type": "text",
    "id": "VSxz3OK9nb4P"
   },
   "source": [
    "##### <font color=\"blue\">Example 4"
   ]
  },
  {
   "cell_type": "code",
   "execution_count": 15,
   "metadata": {
    "colab": {},
    "colab_type": "code",
    "id": "9JidwoWunedW"
   },
   "outputs": [
    {
     "name": "stdout",
     "output_type": "stream",
     "text": [
      "Subaru\n",
      "Subaru\n"
     ]
    }
   ],
   "source": [
    "# Example 4\n",
    "# ---\n",
    "# Accessing an element from a dictionary\n",
    "# ---\n",
    "# \n",
    "\n",
    "# Printing our vehicle's model\n",
    "#\n",
    "print(vehicle[\"model\"]) \n",
    "\n",
    "# or we could use\n",
    "print(vehicle.get(\"model\"))"
   ]
  },
  {
   "cell_type": "markdown",
   "metadata": {
    "colab_type": "text",
    "id": "_xf8ei3mnc3-"
   },
   "source": [
    "##### <font color=\"blue\">Example 5"
   ]
  },
  {
   "cell_type": "code",
   "execution_count": 16,
   "metadata": {
    "colab": {},
    "colab_type": "code",
    "id": "kBMhLSUvnfXb"
   },
   "outputs": [
    {
     "data": {
      "text/plain": [
       "{'brand': 'Toyota', 'year': 2019, 'engine': '2400cc'}"
      ]
     },
     "execution_count": 16,
     "metadata": {},
     "output_type": "execute_result"
    }
   ],
   "source": [
    "# Example 5\n",
    "# ---\n",
    "# Removing an element from a dictionary\n",
    "# ---\n",
    "# \n",
    "\n",
    "# Removing model from the dictionary\n",
    "vehicle_without_model = vehicle.pop(\"model\")\n",
    "vehicle"
   ]
  },
  {
   "cell_type": "markdown",
   "metadata": {
    "colab_type": "text",
    "id": "C4tY9xM-n6jP"
   },
   "source": [
    "##### <font color=\"blue\">Example 6"
   ]
  },
  {
   "cell_type": "code",
   "execution_count": 17,
   "metadata": {
    "colab": {},
    "colab_type": "code",
    "id": "l10tZKkqn791"
   },
   "outputs": [
    {
     "name": "stdout",
     "output_type": "stream",
     "text": [
      "Yes, the keyword exists in the dictionary\n"
     ]
    }
   ],
   "source": [
    "# Example 6\n",
    "# ---\n",
    "# Checking if an element exists\n",
    "# ---\n",
    "# \n",
    "\n",
    "if \"brand\" in vehicle:\n",
    "    print(\"Yes, the keyword exists in the dictionary\")\n",
    "else:\n",
    "    print('No, the keyword does not exist in the dictionary')\n"
   ]
  },
  {
   "cell_type": "markdown",
   "metadata": {
    "colab_type": "text",
    "id": "qxG8RHFnniJT"
   },
   "source": [
    "#### <font color=\"green\">Challenges</font> "
   ]
  },
  {
   "cell_type": "markdown",
   "metadata": {
    "colab_type": "text",
    "id": "dQlkT13Gnjid"
   },
   "source": [
    "##### <font color=\"green\">Challenge 1</font>"
   ]
  },
  {
   "cell_type": "code",
   "execution_count": 4,
   "metadata": {
    "colab": {},
    "colab_type": "code",
    "id": "omUwx9wnnlcl"
   },
   "outputs": [
    {
     "data": {
      "text/plain": [
       "{'screen_size': 52, 'screen_type': 'UHD', 'manufacturer': 'Onn'}"
      ]
     },
     "execution_count": 4,
     "metadata": {},
     "output_type": "execute_result"
    }
   ],
   "source": [
    "# Challenge 1\n",
    "# ---\n",
    "# Create a dictionary named television then populate it with \n",
    "# any values for screen_size, screen_type, manufacturer\n",
    "# ---\n",
    "#\n",
    "# vehicle =\t{\n",
    "#   'brand': 'Toyota',\n",
    "#   'model': 'Subaru',\n",
    "#   'year': 2019\n",
    "# }\n",
    "#OUR CODE GOES HERE\n",
    "television = {\n",
    "    'screen_size': 52,\n",
    "    'screen_type': 'UHD',\n",
    "    'manufacturer': 'Onn',\n",
    "}\n",
    "television"
   ]
  },
  {
   "cell_type": "markdown",
   "metadata": {
    "colab_type": "text",
    "id": "6Pdl8p-QnmN1"
   },
   "source": [
    "##### <font color=\"green\">Challenge 2</font>"
   ]
  },
  {
   "cell_type": "code",
   "execution_count": 7,
   "metadata": {
    "colab": {},
    "colab_type": "code",
    "id": "szya8o5cnnDr"
   },
   "outputs": [
    {
     "data": {
      "text/plain": [
       "{'screen_size': 52,\n",
       " 'screen_type': 'UHD',\n",
       " 'manufacturer': 'Onn',\n",
       " 'date_of_manufacture': 2018}"
      ]
     },
     "execution_count": 7,
     "metadata": {},
     "output_type": "execute_result"
    }
   ],
   "source": [
    "# Challenge 2\n",
    "# ---\n",
    "# Add the element date_of_manufacture with value 2018 to the \n",
    "# television dictionary \n",
    "# ---\n",
    "#\n",
    "#OUR CODE GOES HERE\n",
    "television['date_of_manufacture'] = 2018 \n",
    "television"
   ]
  },
  {
   "cell_type": "markdown",
   "metadata": {
    "colab_type": "text",
    "id": "93yfMyQWnovw"
   },
   "source": [
    "##### <font color=\"green\">Challenge 3</font>"
   ]
  },
  {
   "cell_type": "code",
   "execution_count": 8,
   "metadata": {
    "colab": {},
    "colab_type": "code",
    "id": "nRK7lwI-npy6"
   },
   "outputs": [
    {
     "data": {
      "text/plain": [
       "{'screen_size': 52,\n",
       " 'screen_type': 'UHD',\n",
       " 'manufacturer': 'Onn',\n",
       " 'date_of_manufacture': 2019}"
      ]
     },
     "execution_count": 8,
     "metadata": {},
     "output_type": "execute_result"
    }
   ],
   "source": [
    "# Challenge 3\n",
    "# Update the element date_of_manufacture with value 2019 in the \n",
    "# television dictionary \n",
    "# ---\n",
    "#\n",
    "#OUR CODE GOES HERE\n",
    "television['date_of_manufacture'] = 2019 \n",
    "television"
   ]
  },
  {
   "cell_type": "markdown",
   "metadata": {
    "colab_type": "text",
    "id": "6T7Z10zUnquf"
   },
   "source": [
    "##### <font color=\"green\">Challenge 4</font>"
   ]
  },
  {
   "cell_type": "code",
   "execution_count": 9,
   "metadata": {
    "colab": {},
    "colab_type": "code",
    "id": "QijrUFV6nruq"
   },
   "outputs": [
    {
     "data": {
      "text/plain": [
       "52"
      ]
     },
     "execution_count": 9,
     "metadata": {},
     "output_type": "execute_result"
    }
   ],
   "source": [
    "# Challenge 4\n",
    "# Access the screen size in the television dictionary above\n",
    "# ---\n",
    "#\n",
    "#OUR CODE GOES HERE\n",
    "television['screen_size']"
   ]
  },
  {
   "cell_type": "markdown",
   "metadata": {
    "colab_type": "text",
    "id": "l4aSf1SQnsIc"
   },
   "source": [
    "##### <font color=\"green\">Challenge 5</font>"
   ]
  },
  {
   "cell_type": "code",
   "execution_count": 18,
   "metadata": {
    "colab": {},
    "colab_type": "code",
    "id": "HE2tBOlpntTl"
   },
   "outputs": [
    {
     "name": "stdout",
     "output_type": "stream",
     "text": [
      "No, the keyword does not exist in the dictionary\n"
     ]
    }
   ],
   "source": [
    "# Challenge 45\n",
    "# Check whether designer is a key in the television dictionary \n",
    "# ---\n",
    "#\n",
    "#OUR CODE GOES HERE\n",
    "if 'designer' in television:\n",
    "    print(\"Yes, the keyword exists in the dictionary\")\n",
    "else:\n",
    "    print('No, the keyword does not exist in the dictionary')"
   ]
  },
  {
   "cell_type": "code",
   "execution_count": null,
   "metadata": {},
   "outputs": [],
   "source": []
  }
 ],
 "metadata": {
  "colab": {
   "collapsed_sections": [
    "_TGroESwnRos",
    "HxuW_VVCnVgw",
    "8LarnuTTnalz",
    "VSxz3OK9nb4P",
    "_xf8ei3mnc3-",
    "C4tY9xM-n6jP",
    "qxG8RHFnniJT",
    "dQlkT13Gnjid",
    "6Pdl8p-QnmN1",
    "93yfMyQWnovw",
    "6T7Z10zUnquf",
    "l4aSf1SQnsIc"
   ],
   "name": "Practice Notebook - Python for Data Science - Dictionaries",
   "provenance": [],
   "toc_visible": true
  },
  "kernelspec": {
   "display_name": "Python 3",
   "language": "python",
   "name": "python3"
  },
  "language_info": {
   "codemirror_mode": {
    "name": "ipython",
    "version": 3
   },
   "file_extension": ".py",
   "mimetype": "text/x-python",
   "name": "python",
   "nbconvert_exporter": "python",
   "pygments_lexer": "ipython3",
   "version": "3.7.6"
  }
 },
 "nbformat": 4,
 "nbformat_minor": 1
}
